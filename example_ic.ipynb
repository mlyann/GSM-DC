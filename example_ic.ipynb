{
 "cells": [
  {
   "cell_type": "code",
   "execution_count": 1,
   "id": "042e6357",
   "metadata": {},
   "outputs": [],
   "source": [
    "import sys, os\n",
    "sys.path.append(os.path.expanduser(\"~/Desktop/iGSM\"))\n",
    "\n",
    "from data_gen.prototype.id_gen import IdGen_PT\n",
    "from tools.tools import tokenizer, fix_seed"
   ]
  },
  {
   "cell_type": "code",
   "execution_count": 3,
   "id": "a2c7917d",
   "metadata": {},
   "outputs": [
    {
     "name": "stdout",
     "output_type": "stream",
     "text": [
      "\n",
      "\n",
      "Problem 0:\n",
      " The number of each Ankle Joint's Stromal Cells equals each Pelvis's Cells. The number of each Knee Joint's Melanocytes equals each Pelvis's Cells. The number of each Rotator Cuff's Mesenchymal Cells equals 1. The number of each Pelvis's Pericytes of Blood Vessels equals 2. The number of each Achilles Tendon's Osteocytes equals 1 more than each Wrist Joint's Cells. The number of each Wrist Joint's Mast Cells equals 2. The number of each Shoulder Joint's Adipocytes equals each Femur's Cells. The number of each Knee Joint's Endothelial Cells of Blood Vessels equals 4. How many Melanocytes does Knee Joint have?\n",
      "Solution:\n",
      " Define Pelvis's Pericytes of Blood Vessels as D; so D = 2. Define Pelvis's Cells as v; so v = D = 2. Define Knee Joint's Melanocytes as k; so k = v = 2.\n",
      "Answer:\n",
      " 2\n",
      "Number of irrelevant nodes: 8\n",
      "\n",
      "\n",
      "Problem 1:\n",
      " The number of each University of Green Hills's Geography Lab equals each Pinnacle Peak University's Economics Classroom. The number of each Pinnacle Peak University's Economics Classroom equals 4. The number of each Lakeside University's Criminology Classroom equals 4. The number of each Starlight University's International Relations Classroom equals 4. The number of each Crestwood University's Communication Studies Room equals each Starlight University's International Relations Classroom. The number of each Riverstone University's Anthropology Lab equals 1 times as much as each University of Green Hills's Geography Lab. The number of each University of Green Hills's Psychology Lab equals each Rosewood University's Classroom. The number of each University of Green Hills's Criminology Classroom equals 3 more than each Lakeside University's Classroom. The number of each Riverstone University's Counseling Room equals the difference of each University of Green Hills's Psychology Lab and each Rosewood University's Classroom. How many Counseling Room does Riverstone University have?\n",
      "Solution:\n",
      " Define Rosewood University's Classroom as s; so s = 0. Define University of Green Hills's Psychology Lab as L; so L = s = 0. Define Riverstone University's Counseling Room as F; so F = L - s = 0 - 0 = 0.\n",
      "Answer:\n",
      " 0\n",
      "Number of irrelevant nodes: 9\n",
      "\n",
      "\n",
      "Problem 2:\n",
      " The number of each Mitsuwa Marketplace's Canned Pasta equals each Canned Pineapple's Peas. The number of each Canned Sauces's Cucumber equals each Uwajimaya's Canned Chicken. The number of each Canned Sauces's Cabbage equals each School District's Asia Supermarket. The number of each Canned Milk's Kale equals each Seabra Foods's Product. The number of each NetCost Market's Canned Tuna equals 0 more than each Uwajimaya's Canned Chicken. The number of each Canned Chicken's Eggplant equals each New Grand Mart's Canned Fish. The number of each Arts Campus's Mitsuwa Marketplace equals each Science Park's Product. The number of each School District's Asia Supermarket equals 1 times as much as each Uwajimaya's Canned Chicken. The number of each College Town's New Grand Mart equals the difference of each School District's Seabra Foods and each Arts Campus's Mitsuwa Marketplace. The number of each Uwajimaya's Canned Chicken equals 0. The number of each Canned Sauces's Tomato equals the sum of each Liberal Arts College District's Product, each School District's Asia Supermarket and each Arts Campus's Uwajimaya. The number of each Asia Supermarket's Canned Pineapple equals 4. The number of each Arts Campus's Uwajimaya equals 1 more than the difference of each Science Park's Product and each Research District's Product. The number of each New Grand Mart's Canned Meats equals 4. The number of each Preparatory School District's NetCost Market equals the sum of each College Town's New Grand Mart and each Seabra Foods's Product. The number of each Liberal Arts College District's Fiesta Mart equals 1. The number of each School District's Seabra Foods equals 4 times as much as the difference of each Uwajimaya's Canned Milk and each Seabra Foods's Product. The number of each New Grand Mart's Canned Fish equals 3 more than the sum of each Uwajimaya's Canned Chicken and each School District's Asia Supermarket. The number of each NetCost Market's Canned Sauces equals the sum of each Science Park's Ingredient and each Canned Chicken's Ingredient. The number of each Uwajimaya's Canned Milk equals the sum of each Asia Supermarket's Product and each Asia Supermarket's Canned Pineapple. The number of each Canned Pineapple's Peas equals each New Grand Mart's Canned Meats. The number of each Canned Tuna's Potato equals 2. The number of each Preparatory School District's Superior Grocers equals 0. The number of each Canned Fish's Beetroot equals 1. How many Canned Milk does Uwajimaya have?\n",
      "Solution:\n",
      " Define Asia Supermarket's Canned Pineapple as B; so B = 4. Define Asia Supermarket's Product as f; so f = B = 4. Define Uwajimaya's Canned Milk as p; so p = f + B = 4 + 4 = 3.\n",
      "Answer:\n",
      " 3\n",
      "Number of irrelevant nodes: 9\n",
      "\n",
      "\n",
      "Problem 3:\n",
      " The number of each Cheese Puffs's Grapefruit equals 2. The number of each Postmates's Cookies equals 2. The number of each DoorDash's Granola Bars equals each FreshDirect's Ingredient. The number of each Potato Chips's Avocado equals 2. The number of each Popcorn's Cherry equals 2. The number of each Granola Bars's Blueberry equals 3. The number of each Thrive Market's Popcorn equals 4 more than each Granola Bars's Blueberry. The number of each DoorDash's Salsa equals each Postmates's Cookies. The number of each Thrive Market's Yogurt Covered Raisins equals the sum of each Thrive Market's Popcorn and each Granola Bars's Blueberry. The number of each Salsa's Mango equals 3 more than the sum of each Granola Bars's Blueberry and each Thrive Market's Popcorn. The number of each Granola Bars's Lime equals each Thrive Market's Yogurt Covered Raisins. The number of each Yogurt Covered Raisins's Raspberry equals each DoorDash's Salsa. The number of each Shipt's Potato Chips equals each Postmates's Product. The number of each Cookies's Orange equals 1 more than each Fruit Snacks's Ingredient. The number of each Ocado's Cheese Puffs equals each Yogurt Covered Raisins's Ingredient. The number of each Instacart's Fruit Snacks equals each Ocado's Cheese Puffs. How many Raspberry does Yogurt Covered Raisins have?\n",
      "Solution:\n",
      " Define Postmates's Cookies as c; so c = 2. Define DoorDash's Salsa as Y; so Y = c = 2. Define Yogurt Covered Raisins's Raspberry as R; so R = Y = 2.\n",
      "Answer:\n",
      " 2\n",
      "Number of irrelevant nodes: 15\n",
      "\n",
      "\n",
      "Problem 4:\n",
      " The number of each Minotaur's Duodenum equals 3 more than each Chimera's Organs. The number of each Minotaur's Salivary Glands equals 3. The number of each Minotaur's Gallbladder equals each Minotaur's Salivary Glands. The number of each Pylorus's Thyroid Follicular Cells equals each Minotaur's Salivary Glands. The number of each Appendix's Microvilli Cells equals 3 more than each Minotaur's Duodenum. The number of each Griffin's Pylorus equals each Minotaur's Duodenum. The number of each Mouth's Mesothelial Cells equals each Pylorus's Thyroid Follicular Cells. The number of each Cerberus's Appendix equals each Pylorus's Thyroid Follicular Cells. The number of each Mouth's Glandular Cells equals each Minotaur's Gallbladder. The number of each Salivary Glands's Keratinocytes equals each Minotaur's Organs. The number of each Kraken's Cecum equals 3. The number of each Appendix's Gastric Parietal Cells equals each Mouth's Mesothelial Cells. The number of each Yeti's Stomach equals the sum of each Mouth's Mesothelial Cells and each Cerberus's Appendix. The number of each Appendix's Columnar Epithelial Cells equals 4 times as much as each Pegasus's Organs. The number of each Griffin's Mouth equals each Appendix's Gastric Parietal Cells. The number of each Cecum's Ciliated Epithelial Cells equals each Yeti's Organs. How many Microvilli Cells does Appendix have?\n",
      "Solution:\n",
      " Define Chimera's Organs as J; so J = 0. Define Minotaur's Duodenum as k; so k = 3 + J = 3 + 0 = 3. Define Appendix's Microvilli Cells as S; so S = 3 + k = 3 + 3 = 1.\n",
      "Answer:\n",
      " 1\n",
      "Number of irrelevant nodes: 12\n",
      "\n",
      "\n",
      "Problem 5:\n",
      " The number of each Cricket Chorus's Chameleon equals 4. The number of each Honeybee Hive's Monitor Lizard equals the sum of each Ant Farm's Animal and each Leafcutter Ant Exhibit's Animal. The number of each Cockroach Corner's Komodo Dragon equals 4. The number of each Cricket Chorus's Python equals 0. The number of each Mantis Habitat's Skink equals each Cockroach Corner's Komodo Dragon. The number of each Moth Metropolis's Anole equals each Scorpion Den's Animal. The number of each Cockroach Corner's Snake equals each Cockroach Corner's Komodo Dragon. The number of each Cockroach Corner's Anaconda equals the sum of each Cockroach Corner's Komodo Dragon, each Cricket Chorus's Python and each Mantis Habitat's Skink. How many Animal does Moth Metropolis have?\n",
      "Solution:\n",
      " Define Scorpion Den's Animal as J; so J = 0. Define Moth Metropolis's Anole as Y; so Y = J = 0. Define Moth Metropolis's Animal as B; so B = Y = 0.\n",
      "Answer:\n",
      " 0\n",
      "Number of irrelevant nodes: 10\n",
      "\n",
      "\n",
      "Problem 6:\n",
      " The number of each Sonoran Desert's Cheetah equals 0. The number of each Gobi Desert's Anteater equals the sum of each Patagonian Desert's Creatures and each Great Victoria Desert's Creatures. The number of each Dasht-e Kavir's Giraffe equals 3 more than each Sonoran Desert's Cheetah. The number of each Dasht-e Kavir's Gorilla equals each Sonoran Desert's Cheetah. The number of each Gobi Desert's Hippopotamus equals 2. The number of each Dasht-e Lut's Zebra equals 2. The number of each Karakum Desert's Sloth equals 4. The number of each Syrian Desert's Rhinoceros equals each Gobi Desert's Hippopotamus. How many Creatures does Syrian Desert have?\n",
      "Solution:\n",
      " Define Gobi Desert's Hippopotamus as a; so a = 2. Define Syrian Desert's Rhinoceros as s; so s = a = 2. Define Syrian Desert's Creatures as F; so F = s = 2.\n",
      "Answer:\n",
      " 2\n",
      "Number of irrelevant nodes: 8\n",
      "\n",
      "\n",
      "Problem 7:\n",
      " The number of each Mixed Grass Prairie's Manatee equals 2. The number of each Lowland Grassland's Manta Ray equals 0. The number of each Coastal Grassland's Starfish equals 2. The number of each Coastal Grassland's Puffer Fish equals 4. The number of each Prairie's Coral equals each Coastal Grassland's Puffer Fish. The number of each Highland Grassland's Dolphin equals 2. The number of each Meadow's Crab equals 3. The number of each Coastal Grassland's Great White Shark equals 4 times as much as each Lowland Grassland's Creatures. The number of each Prairie's Crab equals each Meadow's Creatures. How many Great White Shark does Coastal Grassland have?\n",
      "Solution:\n",
      " Define Lowland Grassland's Manta Ray as c; so c = 0. Define Lowland Grassland's Creatures as D; so D = c = 0. Define Coastal Grassland's Great White Shark as B; so B = 4 * D = 4 * 0 = 0.\n",
      "Answer:\n",
      " 0\n",
      "Number of irrelevant nodes: 8\n",
      "\n",
      "\n",
      "Problem 8:\n",
      " The number of each La Michoacana Meat Market's Bottled Water equals each School District's Supermarket. The number of each Patel Brothers's Soy Milk equals 1 times as much as each Soy Milk's Ingredient. The number of each Zion Market's Milk equals each School District's Product. The number of each Sports Drinks's Brown Rice equals the sum of each Milk's Ingredient, each Residential College District's Ingredient and each School District's Supermarket. The number of each Protein Shakes's White Rice equals 2 times as much as each Asia Supermarket's Protein Shakes. The number of each Asia Supermarket's Protein Shakes equals 0. The number of each Vocational School District's La Michoacana Meat Market equals 0. The number of each High School District's Galleria Supermarket equals 1 more than each Asia Supermarket's Protein Shakes. The number of each Almond Milk's Millet equals 2 more than each Asia Supermarket's Protein Shakes. The number of each Sedano's's Tea equals 2 times as much as each Asia Supermarket's Protein Shakes. The number of each Uwajimaya's Hot Chocolate equals the sum of each Technical College District's Product, each Technical College District's Ingredient, each School District's Ingredient and each Residential College District's Supermarket. The number of each Vocational School District's Patel Brothers equals 1 times as much as each Asia Supermarket's Protein Shakes. How many Ingredient does Patel Brothers have?\n",
      "Solution:\n",
      " Define Soy Milk's Ingredient as K; so K = 0. Define Patel Brothers's Soy Milk as u; so u = 1 * K = 1 * 0 = 0. Define Patel Brothers's Ingredient as o; so o = u * K = 0 * 0 = 0.\n",
      "Answer:\n",
      " 0\n",
      "Number of irrelevant nodes: 19\n",
      "\n",
      "\n",
      "Problem 9:\n",
      " The number of each San Diego Zoo's Piranha Pond equals each Philadelphia Zoo's Enclosure. The number of each Philadelphia Zoo's Penguin Beach equals each Cincinnati Zoo's Enclosure. The number of each Calgary Zoo's Manatee Mangrove equals 4. The number of each Sydney Zoo's Coral Reef Exhibit equals 0. The number of each Zoo Miami's Seal Pool equals 4 times as much as the difference of each Melbourne Zoo's Enclosure and each San Diego Zoo's Seadragon Deep. The number of each San Diego Zoo's Seadragon Deep equals each Melbourne Zoo's Enclosure. The number of each San Diego Zoo's Shark Tank equals 2 times as much as each Sydney Zoo's Coral Reef Exhibit. The number of each San Diego Zoo's Aquarium equals each Calgary Zoo's Manatee Mangrove. How many Enclosure does Philadelphia Zoo have?\n",
      "Solution:\n",
      " Define Cincinnati Zoo's Enclosure as V; so V = 0. Define Philadelphia Zoo's Penguin Beach as y; so y = V = 0. Define Philadelphia Zoo's Enclosure as e; so e = y = 0.\n",
      "Answer:\n",
      " 0\n",
      "Number of irrelevant nodes: 9\n"
     ]
    }
   ],
   "source": [
    "from data_gen.prototype.id_gen import IdGen_PT\n",
    "from tools.tools import tokenizer, fix_seed\n",
    "from typing import Literal\n",
    "\n",
    "def gen_problem(op):\n",
    "    id_gen = IdGen_PT(\n",
    "        style=\"uniform\",\n",
    "        op_style=\"uniform\",\n",
    "        op=op,  \n",
    "        noise_level=\"hard\",\n",
    "        detail_level=\"000\",\n",
    "        max_edge=15\n",
    "    )\n",
    "    id_gen.gen_prob([i for i in range(5)], p_format=\"pq\")\n",
    "    return id_gen\n",
    "\n",
    "# generate 10 med problems\n",
    "fix_seed(42)\n",
    "for i in range(10):\n",
    "    id_gen = gen_problem(3)\n",
    "    print(f\"\\n\\nProblem {i}:\")\n",
    "    print(tokenizer.decode(id_gen.prob_token))\n",
    "    print(f\"Solution:\")\n",
    "    print(tokenizer.decode(id_gen.sol_token))\n",
    "    print(f\"Answer:\")\n",
    "    print(tokenizer.decode(id_gen.ans_token))\n",
    "    print(\"Number of irrelevant nodes:\", len(id_gen.irrelevant_nodes))\n",
    "\n"
   ]
  },
  {
   "cell_type": "markdown",
   "id": "66185e33",
   "metadata": {},
   "source": [
    "## INIT a question:\n",
    " - noise_level: it would be biased to high irrelevant nodes.\n",
    " - op: operation number, the difficulty of a question.\n",
    " - detail_level: including all parameters"
   ]
  },
  {
   "cell_type": "code",
   "execution_count": 3,
   "id": "6d70208c",
   "metadata": {},
   "outputs": [],
   "source": [
    "fix_seed(42)\n",
    "id_gen = IdGen_PT(\n",
    "    style=\"uniform\",\n",
    "    op_style=\"uniform\",\n",
    "    op=3,  \n",
    "    noise_level=\"hard\",\n",
    "    detail_level=\"000\"\n",
    ")\n",
    "\n",
    "id_gen.gen_prob([i for i in range(5)], p_format=\"pq\")"
   ]
  },
  {
   "cell_type": "code",
   "execution_count": 4,
   "id": "4aa2292c",
   "metadata": {},
   "outputs": [
    {
     "name": "stdout",
     "output_type": "stream",
     "text": [
      " The number of each Ankle Joint's Stromal Cells equals each Pelvis's Cells. The number of each Knee Joint's Melanocytes equals each Pelvis's Cells. The number of each Rotator Cuff's Mesenchymal Cells equals 1. The number of each Pelvis's Pericytes of Blood Vessels equals 2. The number of each Achilles Tendon's Osteocytes equals 1 more than each Wrist Joint's Cells. The number of each Wrist Joint's Mast Cells equals 2. The number of each Shoulder Joint's Adipocytes equals each Femur's Cells. The number of each Knee Joint's Endothelial Cells of Blood Vessels equals 4. How many Melanocytes does Knee Joint have?\n",
      " Define Pelvis's Pericytes of Blood Vessels as D; so D = 2. Define Pelvis's Cells as v; so v = D = 2. Define Knee Joint's Melanocytes as k; so k = v = 2.\n",
      " 2\n"
     ]
    }
   ],
   "source": [
    "print(tokenizer.decode(id_gen.prob_token))\n",
    "print(tokenizer.decode(id_gen.sol_token))\n",
    "print(tokenizer.decode(id_gen.ans_token))"
   ]
  },
  {
   "cell_type": "markdown",
   "id": "e61c8240",
   "metadata": {},
   "source": [
    "## Solution Checking:"
   ]
  },
  {
   "cell_type": "code",
   "execution_count": 5,
   "id": "848ec3c3",
   "metadata": {},
   "outputs": [],
   "source": [
    "from tools.irr_tools_test import true_correct"
   ]
  },
  {
   "cell_type": "markdown",
   "id": "17c4ef70",
   "metadata": {},
   "source": [
    "### A Correct Sample of GPT Solution"
   ]
  },
  {
   "cell_type": "code",
   "execution_count": 6,
   "id": "05c94cd6",
   "metadata": {},
   "outputs": [
    {
     "name": "stdout",
     "output_type": "stream",
     "text": [
      "Path Acc Correct or not: True\n",
      "Step Acc Correct or not: True\n"
     ]
    }
   ],
   "source": [
    "# Example of a solution string\n",
    "correct_sol = \" Define Pelvis's Pericytes of Blood Vessels as D; so D = 2. Define Pelvis's Cells as v; so v = D = 2. Define Knee Joint's Melanocytes as k; so k = v = 2.\"\n",
    "\n",
    "# Validate the solution\n",
    "pacc, sacc, my_print, parser = true_correct(correct_sol, id_gen.problem)\n",
    "print(f\"Path Acc Correct or not: {pacc}\")\n",
    "print(f\"Step Acc Correct or not: {sacc}\")\n",
    "my_print.display()"
   ]
  },
  {
   "cell_type": "markdown",
   "id": "bc59d484",
   "metadata": {},
   "source": [
    "### A Wrong Sample of GPT Solution"
   ]
  },
  {
   "cell_type": "code",
   "execution_count": 7,
   "id": "87245e29",
   "metadata": {},
   "outputs": [
    {
     "name": "stdout",
     "output_type": "stream",
     "text": [
      "Path Acc Correct or not: False\n",
      "Step Acc Correct or not: False\n",
      "none appear lst: AAAAbbCC\n"
     ]
    }
   ],
   "source": [
    "# Example of a solution string\n",
    "wrong_sol = \" Define AAAAbbCC as D; so D = 2. Define Pelvis's Cells as v; so v = D = 2. Define Knee Joint's Melanocytes as k; so k = v = 2.\"\n",
    "\n",
    "# Validate the solution\n",
    "pacc, sacc, my_print, parser = true_correct(wrong_sol, id_gen.problem)\n",
    "print(f\"Path Acc Correct or not: {pacc}\")\n",
    "print(f\"Step Acc Correct or not: {sacc}\")\n",
    "my_print.display()"
   ]
  },
  {
   "cell_type": "markdown",
   "id": "6821a1d7",
   "metadata": {},
   "source": [
    "### A SAcc=Wrong, PAcc=Correct Sample of GPT Solution"
   ]
  },
  {
   "cell_type": "code",
   "execution_count": 8,
   "id": "476260aa",
   "metadata": {},
   "outputs": [
    {
     "name": "stdout",
     "output_type": "stream",
     "text": [
      "Path Acc Correct or not: True\n",
      "Step Acc Correct or not: False\n",
      "Wrong solution answer. gpt_ans = 3, problem.ans = 2\n",
      "v = 3 not in {2}\n"
     ]
    }
   ],
   "source": [
    "# Example of a solution string\n",
    "wrong_sol = \" Define Pelvis's Pericytes of Blood Vessels as D; so D = 2. Define Pelvis's Cells as v; so v = D = 2. Define Knee Joint's Melanocytes as k; so k = v = 3.\"\n",
    "\n",
    "# Validate the solution\n",
    "pacc, sacc, my_print, parser = true_correct(wrong_sol, id_gen.problem)\n",
    "print(f\"Path Acc Correct or not: {pacc}\")\n",
    "print(f\"Step Acc Correct or not: {sacc}\")\n",
    "my_print.display()"
   ]
  },
  {
   "cell_type": "code",
   "execution_count": null,
   "id": "1244ab7f",
   "metadata": {},
   "outputs": [],
   "source": []
  }
 ],
 "metadata": {
  "kernelspec": {
   "display_name": "fast",
   "language": "python",
   "name": "python3"
  },
  "language_info": {
   "codemirror_mode": {
    "name": "ipython",
    "version": 3
   },
   "file_extension": ".py",
   "mimetype": "text/x-python",
   "name": "python",
   "nbconvert_exporter": "python",
   "pygments_lexer": "ipython3",
   "version": "3.13.0"
  }
 },
 "nbformat": 4,
 "nbformat_minor": 5
}
